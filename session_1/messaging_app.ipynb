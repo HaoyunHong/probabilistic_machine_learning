{
 "cells": [
  {
   "cell_type": "markdown",
   "metadata": {},
   "source": [
    "# Messaging App"
   ]
  },
  {
   "cell_type": "code",
   "execution_count": null,
   "metadata": {},
   "outputs": [],
   "source": [
    "import warnings\n",
    "warnings.filterwarnings('ignore')"
   ]
  },
  {
   "cell_type": "code",
   "execution_count": null,
   "metadata": {},
   "outputs": [],
   "source": [
    "import math\n",
    "import pymc3 as pm\n",
    "import numpy as np\n",
    "import pandas as pd\n",
    "import seaborn as sns\n",
    "import matplotlib.pyplot as plt"
   ]
  },
  {
   "cell_type": "markdown",
   "metadata": {},
   "source": [
    "Assume we have some data for the number of messages sent using a messaging app."
   ]
  },
  {
   "cell_type": "code",
   "execution_count": null,
   "metadata": {},
   "outputs": [],
   "source": [
    "count_data = np.array([\n",
    "    13,  24,   8,  24,   7,  35,  14,  11,  15,  11,  22,  22,  11,  57,  \n",
    "    11,  19,  29,   6,  19,  12,  22,  12,  18,  72,  32,   9,   7,  13,  \n",
    "    19,  23,  27,  20,   6,  17,  13,  10,  14,   6,  16,  15,   7,   2,  \n",
    "    15,  15,  19,  70,  49,   7,  53,  22,  21,  31,  19,  11,  18,  20,  \n",
    "    12,  35,  17,  23,  17,   4,   2,  31,  30,  13,  27,   0,  39,  37,   \n",
    "    5,  14,  13,  22,\n",
    "])\n",
    "\n",
    "n_count_data = len(count_data)\n",
    "\n",
    "days = np.arange(0, n_count_data)"
   ]
  },
  {
   "cell_type": "code",
   "execution_count": null,
   "metadata": {},
   "outputs": [],
   "source": [
    "plt.figure(figsize=(10, 5))\n",
    "plt.bar(days, count_data, color=\"#5DA5DA\")\n",
    "plt.xlabel(\"Time (days)\")\n",
    "plt.ylabel(\"Number of messages received per day\")\n",
    "plt.title(\"Did the user's messaging habits change over time?\")\n",
    "plt.xlim(0, n_count_data);\n",
    "\n",
    "plt.tight_layout()"
   ]
  },
  {
   "cell_type": "markdown",
   "metadata": {},
   "source": [
    "We can describe the process by a generative probablitic model. \n",
    "\n",
    "\\begin{align}\n",
    "m_i & \\sim \n",
    "\\begin{cases} \\text{Poisson}\\left( \\lambda_1 \\right) & \\text{if } t_i < \\tau \\\\\n",
    "\\text{Poisson}\\left( \\lambda_2 \\right) & \\text{otherwise} \\end{cases}\n",
    "\\end{align}\n",
    "\n",
    "We again write it as a probablistic program."
   ]
  },
  {
   "cell_type": "code",
   "execution_count": null,
   "metadata": {},
   "outputs": [],
   "source": [
    "model = pm.Model() \n",
    "    \n",
    "with model:\n",
    "    \n",
    "    alpha = 1.0 / np.mean(count_data)\n",
    "    \n",
    "    lambda_1 = pm.Exponential(\"lambda_1\", alpha)\n",
    "    lambda_2 = pm.Exponential(\"lambda_2\", alpha)\n",
    "    \n",
    "    tau = pm.DiscreteUniform(\"tau\", lower=0, upper=n_count_data - 1)\n",
    "    \n",
    "    lambda_ = pm.math.switch(days < tau, lambda_1, lambda_2)\n",
    "    \n",
    "    observation = pm.Poisson(\"obs\", lambda_, observed=count_data)"
   ]
  },
  {
   "cell_type": "markdown",
   "metadata": {},
   "source": [
    "As before, we then run the model to generate the trace."
   ]
  },
  {
   "cell_type": "code",
   "execution_count": null,
   "metadata": {},
   "outputs": [],
   "source": [
    "with model:\n",
    "    \n",
    "    trace = pm.sample(2000);"
   ]
  },
  {
   "cell_type": "markdown",
   "metadata": {},
   "source": [
    "We can then plot the data to examine the posterior probablity distributions of the model parameters."
   ]
  },
  {
   "cell_type": "code",
   "execution_count": null,
   "metadata": {},
   "outputs": [],
   "source": [
    "lambda_1_samples = trace['lambda_1']\n",
    "lambda_2_samples = trace['lambda_2']\n",
    "tau_samples = trace['tau']"
   ]
  },
  {
   "cell_type": "code",
   "execution_count": null,
   "metadata": {},
   "outputs": [],
   "source": [
    "fig, axes = plt.subplots(3, 1, figsize=(10, 5))\n",
    "\n",
    "axes[0].hist(lambda_1_samples, histtype='stepfilled', bins=30, alpha=0.85, color=\"#A60628\", density=True)\n",
    "axes[0].set_xlim(12, 28)\n",
    "axes[0].set_title('Lambda_1 posterior probability density')\n",
    "\n",
    "axes[1].hist(lambda_2_samples, histtype='stepfilled', bins=30, alpha=0.85, color=\"#7A68A6\", density=True)\n",
    "axes[1].set_xlim(12, 28)\n",
    "axes[1].set_title('Lambda_2 posterior probability density')\n",
    "\n",
    "w = 1.0 / len(tau_samples) * np.ones_like(tau_samples)\n",
    "axes[2].hist(tau_samples, bins=n_count_data, alpha=1, color=\"#467821\", weights=w, width=0.5)\n",
    "axes[2].set_xlim(0, n_count_data)\n",
    "axes[2].set_title('Tau posterior probability')\n",
    "\n",
    "plt.tight_layout()\n",
    "plt.savefig('distributions.pdf')"
   ]
  },
  {
   "cell_type": "markdown",
   "metadata": {},
   "source": [
    "We can then use these posterior probabilities to calculate the expected number of messages that we should see each day."
   ]
  },
  {
   "cell_type": "code",
   "execution_count": null,
   "metadata": {},
   "outputs": [],
   "source": [
    "N = len(tau_samples)\n",
    "expected_messages_per_day = np.zeros(n_count_data)\n",
    "for day in range(n_count_data):\n",
    "    ix = day < tau_samples\n",
    "    expected_messages_per_day[day] = (lambda_1_samples[ix].sum() + lambda_2_samples[~ix].sum()) / N"
   ]
  },
  {
   "cell_type": "code",
   "execution_count": null,
   "metadata": {},
   "outputs": [],
   "source": [
    "plt.figure(figsize=(10, 5))\n",
    "plt.bar(days, count_data, color=\"#5DA5DA\")\n",
    "plt.plot(days, expected_messages_per_day, lw=4, color=\"#E24A33\")\n",
    "plt.xlabel(\"Time (days)\")\n",
    "plt.ylabel(\"Number of messages received per day\")\n",
    "plt.title(\"Did the user's messaging habits change over time?\")\n",
    "plt.xlim(0, n_count_data);\n",
    "\n",
    "plt.tight_layout()"
   ]
  }
 ],
 "metadata": {
  "kernelspec": {
   "display_name": "Python 3",
   "language": "python",
   "name": "python3"
  },
  "language_info": {
   "codemirror_mode": {
    "name": "ipython",
    "version": 3
   },
   "file_extension": ".py",
   "mimetype": "text/x-python",
   "name": "python",
   "nbconvert_exporter": "python",
   "pygments_lexer": "ipython3",
   "version": "3.7.1"
  }
 },
 "nbformat": 4,
 "nbformat_minor": 2
}
