{
 "cells": [
  {
   "cell_type": "markdown",
   "metadata": {},
   "source": [
    "# Population Height"
   ]
  },
  {
   "cell_type": "code",
   "execution_count": null,
   "metadata": {},
   "outputs": [],
   "source": [
    "import warnings\n",
    "warnings.filterwarnings('ignore')"
   ]
  },
  {
   "cell_type": "code",
   "execution_count": null,
   "metadata": {},
   "outputs": [],
   "source": [
    "import math\n",
    "import pymc3 as pm\n",
    "import numpy as np\n",
    "import pandas as pd\n",
    "import seaborn as sns\n",
    "import matplotlib.pyplot as plt"
   ]
  },
  {
   "cell_type": "markdown",
   "metadata": {},
   "source": [
    "### Example data\n",
    "\n",
    "Assume that we have some height measurements from some population (say students at the University of Oxford). "
   ]
  },
  {
   "cell_type": "code",
   "execution_count": null,
   "metadata": {},
   "outputs": [],
   "source": [
    "male_heights = np.array([\n",
    "    194., 179., 175., 185., 183., 182., 190., 181., 183., 179., 191.,\n",
    "    190., 184., 180., 169., 181., 185., 186., 195., 191., 183., 191.,\n",
    "    188., 190., 177., 191., 183., 178., 181., 182., 180., 170., 176.,\n",
    "    177., 186., 193., 195., 164., 178., 178., 182., 176., 196., 191.,\n",
    "    178., 162., 188., 191., 181., 178., 168., 183., 171., 171., 189.,\n",
    "    176., 180., 189., 175., 172., 186., 196., 187., 180., 192., 178.,\n",
    "    196., 185., 191., 197., 182., 190., 169., 197., 171., 177., 174.,\n",
    "    181., 182., 190., 184., 164., 174., 187., 177., 180., 177., 184.,\n",
    "    180., 197., 177., 166., 176., 169., 190., 174., 178., 180., 183.,\n",
    "    184.\n",
    "])\n",
    "\n",
    "female_heights = np.array([\n",
    "    162., 174., 167., 167., 159., 172., 168., 155., 165., 165., 160.,\n",
    "    165., 163., 151., 158., 155., 156., 169., 175., 170., 151., 162.,\n",
    "    164., 177., 154., 170., 172., 162., 171., 161., 148., 159., 159.,\n",
    "    153., 165., 174., 165., 164., 169., 157., 172., 161., 174., 162.,\n",
    "    163., 167., 162., 165., 156., 151., 169., 171., 164., 182., 164.,\n",
    "    167., 161., 177., 177., 167., 163., 144., 170., 150., 170., 157.,\n",
    "    163., 169., 166., 168., 175., 154., 153., 143., 161., 170., 189.,\n",
    "    163., 174., 163., 157., 167., 167., 152., 167., 155., 147., 163.,\n",
    "    166., 160., 163., 168., 163., 178., 161., 165., 154., 152., 161.,\n",
    "    156.\n",
    "])"
   ]
  },
  {
   "cell_type": "markdown",
   "metadata": {},
   "source": [
    "### Statistics of our sample\n",
    "\n",
    "We might calculate some statistics from the data and plot it to examine it in more detail. For example, the mean, $\\mu$, and the variance, $\\sigma^2$, and hence the standard deviation, $\\sigma$, are given by:\n",
    "\n",
    "\\begin{align*}\n",
    "\\mu & = \\frac{1}{N} \\sum_{i = 1}^{N} x_i \\\\\n",
    "\\sigma^2 & = \\frac{1}{N} \\sum_{i = 1}^{N} x_i^2 - \\left(\\frac{1}{N} \\sum_{i = 1}^{N} x_i \\right)^2\\\\\n",
    "& = \\frac{1}{N} \\sum_{i = 1}^{N} \\left( x_i - \\mu \\right)^2\n",
    "\\end{align*}"
   ]
  },
  {
   "cell_type": "code",
   "execution_count": null,
   "metadata": {},
   "outputs": [],
   "source": [
    "mean = np.round(np.mean(male_heights), 0)\n",
    "\n",
    "standard_deviation = np.round(np.std(male_heights), 0)\n",
    "\n",
    "print('Male: {:.0f} +/- {:.0f}'.format(mean, standard_deviation))"
   ]
  },
  {
   "cell_type": "code",
   "execution_count": null,
   "metadata": {},
   "outputs": [],
   "source": [
    "mean = np.round(np.mean(female_heights), 0)\n",
    "\n",
    "standard_deviation = np.round(np.std(female_heights), 0)\n",
    "\n",
    "print('Female: {:.0f} +/- {:.0f}'.format(mean, standard_deviation))"
   ]
  },
  {
   "cell_type": "code",
   "execution_count": null,
   "metadata": {},
   "outputs": [],
   "source": [
    "plt.figure(figsize=(10, 5))\n",
    "plt.hist(male_heights, bins = 70, color=\"#7A68A6\", density=True)\n",
    "plt.hist(female_heights, bins = 70, color=\"#467821\", density=True)\n",
    "plt.xlim(140, 210);\n",
    "plt.xlabel('Height (cm)')\n",
    "\n",
    "plt.tight_layout();"
   ]
  },
  {
   "cell_type": "markdown",
   "metadata": {},
   "source": [
    "### Population estimates\n",
    "\n",
    "When we make measurement of the mean, variance and standard deviation of a sample from a larger population, we typically want to say something about the larger population from which the samples were drawn (i.e. what is the average height of male members of population).\n",
    "\n",
    "When we do so, we are imagining that there is some distribution from which our sample was drawn, and we are trying to estimate the parameters of that distribution.\n",
    "\n",
    "To do so, we use statistical estimators. In the case of the mean and variance, these turn out to be very similar to what we calculated above. Now, the mean, $\\mu$, and variance, $\\sigma^2$, represent the mean and variance of the whole population, and we have estimates of their value, derived from our sample.\n",
    "\n",
    "\\begin{align*}\n",
    "\\hat{\\mu} & = \\frac{1}{N} \\sum_{i = 1}^{N} x_i \\\\\n",
    "\\hat{\\sigma}^2 & = \\frac{1}{N-1} \\sum_{i = 1}^{N} \\left( x_i - \\hat{\\mu} \\right)^2\n",
    "\\end{align*}\n",
    "\n",
    "Comparing these to the sample mean and variance above we can see that:\n",
    "\n",
    "\\begin{align*}\n",
    "\\hat{\\mu} & = \\mu \\\\\n",
    "\\hat{\\sigma}^2 & = \\frac{N}{N-1} \\sigma^2\n",
    "\\end{align*}\n",
    "\n",
    "Thus the best estimate of the population mean is the mean of the samples, but the best estimate of the population variance is a little bit larger than the sample variance (with the correction size depending on the size of the sample)."
   ]
  },
  {
   "cell_type": "markdown",
   "metadata": {},
   "source": [
    "### Probabilistic modelling\n",
    "\n",
    "The estimators used above are often hard to remember and we need to look them up each time we use them. They also limit us to certain settings for which estimators have already been derived. In this course, we will use a powerful probabilistic programmign approach that avoids these issues. We will explicitly describe the probabilistic model that describes the data, and then use automated approaches to estimate the parameters of this model. We call this a 'generative model' because it describes the process by which the data was genera†ed."
   ]
  },
  {
   "cell_type": "markdown",
   "metadata": {},
   "source": [
    "We will assume that the samples that we observe are drawn from a normal distribution with some unknown mean and variance:\n",
    "\n",
    "\\begin{equation*}\n",
    "x_i \\sim \\mathcal{N}\\left(\\mu, \\sigma^2\\right)\n",
    "\\end{equation*}\n",
    "\n",
    "We can then write down this model as a probabilistic program that describes our observations with 'prior' distributions for the unknown model parameters."
   ]
  },
  {
   "cell_type": "code",
   "execution_count": null,
   "metadata": {},
   "outputs": [],
   "source": [
    "model = pm.Model() \n",
    "    \n",
    "with model:\n",
    "    \n",
    "    sd = pm.Uniform('sd', 0, 20)\n",
    "        \n",
    "    mu = pm.Uniform(\"mu\", 140, 190)\n",
    "    \n",
    "    observation = pm.Normal(\"obs\", mu=mu, sd=sd, observed=female_heights)"
   ]
  },
  {
   "cell_type": "code",
   "execution_count": null,
   "metadata": {},
   "outputs": [],
   "source": [
    "with model:\n",
    "    \n",
    "    trace = pm.sample(5000);"
   ]
  },
  {
   "cell_type": "markdown",
   "metadata": {},
   "source": [
    "This process generates a 'trace'. We can plot a histogram of this trace to see the 'posterior' distributions of the unknown model parameters. During the course well understand more about this process and exactly what the 'prior' and 'posterior' mean. "
   ]
  },
  {
   "cell_type": "code",
   "execution_count": null,
   "metadata": {},
   "outputs": [],
   "source": [
    "fig, axes = plt.subplots(2, 1, figsize=(10, 5))\n",
    "\n",
    "axes[0].hist(trace['mu'], histtype='stepfilled', bins=70, alpha=0.85, color=\"#467821\", density=True)\n",
    "axes[0].set_xlim(140, 210)\n",
    "axes[0].set_xlabel('Height (cm)')\n",
    "axes[0].set_title('Female mean height posterior probability density')\n",
    "\n",
    "axes[1].hist(trace['sd'], histtype='stepfilled', bins=30, alpha=0.85, color=\"#A60628\", density=True)\n",
    "axes[1].set_xlim(6, 12)\n",
    "axes[1].set_xlabel('Height (cm)')\n",
    "axes[1].set_title('Standard deviation posterior probability')\n",
    "\n",
    "plt.tight_layout()"
   ]
  },
  {
   "cell_type": "markdown",
   "metadata": {},
   "source": [
    "Note that the results match the estimators above but we also have a clear indication of the uncertainty of these estimates.\n",
    "\n",
    "We can do the same with the male height measurements."
   ]
  },
  {
   "cell_type": "code",
   "execution_count": null,
   "metadata": {},
   "outputs": [],
   "source": [
    "model = pm.Model() \n",
    "    \n",
    "with model:\n",
    "    \n",
    "    sd = pm.Uniform('sd', 0, 20)\n",
    "        \n",
    "    mu = pm.Uniform(\"mu\", 140, 190)\n",
    "    \n",
    "    observation = pm.Normal(\"obs\", mu=mu, sd=sd, observed=male_heights)\n",
    "    \n",
    "    trace = pm.sample(5000);\n",
    "    \n",
    "fig, axes = plt.subplots(2, 1, figsize=(10, 5))\n",
    "\n",
    "axes[0].hist(trace['mu'], histtype='stepfilled', bins=70, alpha=0.85, color=\"#7A68A6\", density=True)\n",
    "axes[0].set_xlim(140, 210)\n",
    "axes[0].set_xlabel('Height (cm)')\n",
    "axes[0].set_title('Male mean height posterior probability density')\n",
    "\n",
    "axes[1].hist(trace['sd'], histtype='stepfilled', bins=30, alpha=0.85, color=\"#A60628\", density=True)\n",
    "axes[1].set_xlim(6, 12)\n",
    "axes[1].set_xlabel('Height (cm)')\n",
    "axes[1].set_title('Standard deviation posterior probability')\n",
    "\n",
    "plt.tight_layout()   "
   ]
  },
  {
   "cell_type": "markdown",
   "metadata": {},
   "source": [
    "### More complex models"
   ]
  },
  {
   "cell_type": "markdown",
   "metadata": {},
   "source": [
    "The above example is very simple and doesn't show anything that we couldn't do before. However, what happens if we have lost the original labels of which height measurements belong to male and female members of the population."
   ]
  },
  {
   "cell_type": "code",
   "execution_count": null,
   "metadata": {},
   "outputs": [],
   "source": [
    "all_heights = np.concatenate([male_heights, female_heights])"
   ]
  },
  {
   "cell_type": "code",
   "execution_count": null,
   "metadata": {},
   "outputs": [],
   "source": [
    "plt.figure(figsize=(10, 5))\n",
    "plt.hist(all_heights, bins = 70, color=\"#A60628\", density=True)\n",
    "plt.xlim(140, 210);\n",
    "plt.xlabel('Height (cm)')\n",
    "\n",
    "plt.tight_layout();"
   ]
  },
  {
   "cell_type": "markdown",
   "metadata": {},
   "source": [
    "Now the task is impossible with our standard statistical approached. However, we can still build a probabilistic model which explains this data. We now assume there is a 'latent' variable which we do not know - whether the sample is male or female. We ascribe some prior probability to this - 50/50 - and build a model where we encode our prior understanding about the population (in this case, that male members of the population are generally taller than females).\n",
    "\n",
    "In this case our model is more complex:\n",
    "\n",
    "\\begin{align*}\n",
    "s_i & \\in \\{\\text{male}, \\text{female} \\} \\\\\n",
    "x_i & \\sim \\begin{cases} \\mathcal{N}\\left(\\mu, \\sigma^2\\right) & \\text{if } s_i = \\text{female} \\\\\n",
    "\\mathcal{N}\\left(\\mu + \\text{offset}, \\sigma^2\\right) & \\text{otherwise} \\\\\n",
    "\\end{cases}\n",
    "\\end{align*}\n",
    "\n",
    "However, we can again write it as a probabilistic program."
   ]
  },
  {
   "cell_type": "code",
   "execution_count": null,
   "metadata": {},
   "outputs": [],
   "source": [
    "N = len(all_heights)\n",
    "\n",
    "model = pm.Model() \n",
    "    \n",
    "with model:\n",
    "    \n",
    "    sd = pm.Uniform('sd', 0, 20)\n",
    "        \n",
    "    mu = pm.Uniform(\"mu\", 140, 190)\n",
    "\n",
    "    male_or_female = pm.Bernoulli('male_or_female', 0.5, shape=N)\n",
    "       \n",
    "    offset = pm.Uniform(\"offset\", 0, 20)\n",
    "\n",
    "    height = pm.math.switch(male_or_female, mu, mu + offset)\n",
    "    \n",
    "    observation = pm.Normal(\"obs\", mu=height, sd=sd, observed=all_heights)\n",
    "    \n",
    "    trace = pm.sample(5000);"
   ]
  },
  {
   "cell_type": "code",
   "execution_count": null,
   "metadata": {},
   "outputs": [],
   "source": [
    "female_samples = trace['mu']\n",
    "male_samples = female_samples + trace['offset']\n",
    "sd_samples = trace['sd']"
   ]
  },
  {
   "cell_type": "code",
   "execution_count": null,
   "metadata": {},
   "outputs": [],
   "source": [
    "fig, axes = plt.subplots(3, 1, figsize=(10, 5))\n",
    "\n",
    "axes[0].hist(female_samples, histtype='stepfilled', bins=70, alpha=0.85, color=\"#467821\", density=True)\n",
    "axes[0].set_xlim(140, 210)\n",
    "axes[0].set_xlabel('Height (cm)')\n",
    "axes[0].set_title('Female mean height posterior probability density')\n",
    "\n",
    "axes[1].hist(male_samples, histtype='stepfilled', bins=70, alpha=0.85, color=\"#7A68A6\", density=True)\n",
    "axes[1].set_xlim(140, 210)\n",
    "axes[1].set_xlabel('Height (cm)')\n",
    "axes[1].set_title('Male mean height posterior probability density')\n",
    "\n",
    "axes[2].hist(sd_samples, histtype='stepfilled', bins=30, alpha=0.85, color=\"#A60628\", density=True)\n",
    "axes[2].set_xlabel('Height (cm)')\n",
    "axes[2].set_title('Standard deviation posterior probability')\n",
    "\n",
    "plt.tight_layout()"
   ]
  },
  {
   "cell_type": "markdown",
   "metadata": {},
   "source": [
    "The model and the trace give us some more capabilities. We have a latent variable for the sex of each individual sample. We can can investigate the posterior probability of this latent variable."
   ]
  },
  {
   "cell_type": "code",
   "execution_count": null,
   "metadata": {},
   "outputs": [],
   "source": [
    "male_or_female = np.mean(trace['male_or_female'], 0)"
   ]
  },
  {
   "cell_type": "code",
   "execution_count": null,
   "metadata": {},
   "outputs": [],
   "source": [
    "plt.figure(figsize=(10, 5))\n",
    "plt.bar(np.arange(N), male_or_female, color=\"#5DA5DA\")\n",
    "plt.xlabel(\"Population Member\")\n",
    "plt.ylabel(\"Probability\")\n",
    "plt.title(\"Posterior probability of being Male or Female\")\n",
    "plt.xlim(1, N);\n",
    "\n",
    "plt.tight_layout()"
   ]
  }
 ],
 "metadata": {
  "kernelspec": {
   "display_name": "Python 3",
   "language": "python",
   "name": "python3"
  },
  "language_info": {
   "codemirror_mode": {
    "name": "ipython",
    "version": 3
   },
   "file_extension": ".py",
   "mimetype": "text/x-python",
   "name": "python",
   "nbconvert_exporter": "python",
   "pygments_lexer": "ipython3",
   "version": "3.7.1"
  }
 },
 "nbformat": 4,
 "nbformat_minor": 2
}
