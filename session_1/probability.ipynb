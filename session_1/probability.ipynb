{
 "cells": [
  {
   "cell_type": "markdown",
   "metadata": {},
   "source": [
    "# Probability"
   ]
  },
  {
   "cell_type": "raw",
   "metadata": {},
   "source": [
    "import warnings\n",
    "warnings.filterwarnings('ignore')"
   ]
  },
  {
   "cell_type": "code",
   "execution_count": null,
   "metadata": {},
   "outputs": [],
   "source": [
    "import math\n",
    "import pymc3 as pm\n",
    "import numpy as np\n",
    "import pandas as pd\n",
    "import seaborn as sns\n",
    "import matplotlib.pyplot as plt"
   ]
  },
  {
   "cell_type": "markdown",
   "metadata": {},
   "source": [
    "### Single Die"
   ]
  },
  {
   "cell_type": "code",
   "execution_count": null,
   "metadata": {},
   "outputs": [],
   "source": [
    "N_SIDES = 6\n",
    "N_REPEATS = 10000\n",
    "\n",
    "samples = np.random.choice(np.arange(1, N_SIDES + 1), size=N_REPEATS)"
   ]
  },
  {
   "cell_type": "code",
   "execution_count": null,
   "metadata": {},
   "outputs": [],
   "source": [
    "plt.figure(figsize=(10, 5))\n",
    "plt.hist(samples, np.arange(1, N_SIDES + 2) - 0.5, alpha=0.85, color=\"#7A68A6\", density=True)\n",
    "plt.title('Single die roll probability distribution')\n",
    "plt.xlim(0.5, N_SIDES + 0.5)\n",
    "plt.xticks(np.arange(1, N_SIDES + 1))\n",
    "plt.tight_layout()"
   ]
  },
  {
   "cell_type": "markdown",
   "metadata": {},
   "source": [
    "### Multiple Dice"
   ]
  },
  {
   "cell_type": "code",
   "execution_count": null,
   "metadata": {},
   "outputs": [],
   "source": [
    "N_SIDES = 6\n",
    "N_DICE = 2\n",
    "N_REPEATS = 10000\n",
    "\n",
    "samples = np.random.choice(np.arange(1, N_SIDES + 1), size=(N_REPEATS, N_DICE))"
   ]
  },
  {
   "cell_type": "code",
   "execution_count": null,
   "metadata": {},
   "outputs": [],
   "source": [
    "total = np.sum(samples, 1)"
   ]
  },
  {
   "cell_type": "code",
   "execution_count": null,
   "metadata": {},
   "outputs": [],
   "source": [
    "plt.figure(figsize=(10, 5))\n",
    "plt.hist(total, np.arange(1, N_DICE * N_SIDES + 2) - 0.5, alpha=0.85, color=\"#7A68A6\", density=True)\n",
    "plt.title('Two dice roll probability distribution')\n",
    "plt.xlim(0.5, N_DICE * N_SIDES + 0.5)\n",
    "plt.xticks(np.arange(1, N_DICE * N_SIDES + 1))\n",
    "plt.tight_layout()"
   ]
  },
  {
   "cell_type": "markdown",
   "metadata": {},
   "source": [
    "### Conditional Outcomes"
   ]
  },
  {
   "cell_type": "markdown",
   "metadata": {},
   "source": [
    "We can use the same approach to explore more complex probabilities, for example, $P(D_1 + D_2 = 12)$."
   ]
  },
  {
   "cell_type": "code",
   "execution_count": null,
   "metadata": {},
   "outputs": [],
   "source": [
    "N_SIDES = 6\n",
    "N_DICE = 2\n",
    "N_REPEATS = 10000\n",
    "\n",
    "samples = np.random.choice(np.arange(1, N_SIDES + 1), size=(N_REPEATS, N_DICE))"
   ]
  },
  {
   "cell_type": "code",
   "execution_count": null,
   "metadata": {},
   "outputs": [],
   "source": [
    "total = np.sum(samples, 1)"
   ]
  },
  {
   "cell_type": "code",
   "execution_count": null,
   "metadata": {},
   "outputs": [],
   "source": [
    "probability = np.sum(total == 12) / N_REPEATS"
   ]
  },
  {
   "cell_type": "code",
   "execution_count": null,
   "metadata": {},
   "outputs": [],
   "source": [
    "print('Probability: {:0.4f}'.format(probability))"
   ]
  },
  {
   "cell_type": "markdown",
   "metadata": {},
   "source": [
    "We can use the same approach to explore more complex probabilities, for example, $P(D_1 = 6|D_1 + D_2 > 10)$."
   ]
  },
  {
   "cell_type": "code",
   "execution_count": null,
   "metadata": {},
   "outputs": [],
   "source": [
    "dice_1 = samples[:,0]\n",
    "dice_2 = samples[:,1]\n",
    "\n",
    "total = np.sum(samples, 1)"
   ]
  },
  {
   "cell_type": "code",
   "execution_count": null,
   "metadata": {},
   "outputs": [],
   "source": [
    "probability = np.sum(np.logical_and(dice_1 == 6, total > 10)) / np.sum(total > 10)"
   ]
  },
  {
   "cell_type": "code",
   "execution_count": null,
   "metadata": {},
   "outputs": [],
   "source": [
    "print('Probability: {:0.4f}'.format(probability))"
   ]
  }
 ],
 "metadata": {
  "kernelspec": {
   "display_name": "Python 3",
   "language": "python",
   "name": "python3"
  },
  "language_info": {
   "codemirror_mode": {
    "name": "ipython",
    "version": 3
   },
   "file_extension": ".py",
   "mimetype": "text/x-python",
   "name": "python",
   "nbconvert_exporter": "python",
   "pygments_lexer": "ipython3",
   "version": "3.7.1"
  }
 },
 "nbformat": 4,
 "nbformat_minor": 2
}
