{
 "cells": [
  {
   "cell_type": "markdown",
   "metadata": {},
   "source": [
    "# Sampling Methods to Calculate Pi "
   ]
  },
  {
   "cell_type": "raw",
   "metadata": {},
   "source": [
    "import warnings\n",
    "warnings.filterwarnings('ignore')"
   ]
  },
  {
   "cell_type": "code",
   "execution_count": null,
   "metadata": {},
   "outputs": [],
   "source": [
    "import math\n",
    "import pymc3 as pm\n",
    "import numpy as np\n",
    "import pandas as pd\n",
    "import seaborn as sns\n",
    "import matplotlib.pyplot as plt"
   ]
  },
  {
   "cell_type": "markdown",
   "metadata": {},
   "source": [
    "We can use sampling methods to estimate the value of $\\pi$. To do so, we sample two random number in the range $[0,1]$ and determine whether they fall within the area of a unit circle (i.e. is $x^2$ and $y^2$ $\\leq 1$)."
   ]
  },
  {
   "cell_type": "code",
   "execution_count": null,
   "metadata": {},
   "outputs": [],
   "source": [
    "plt.figure(figsize=(6,6))\n",
    "\n",
    "def plotCircle():\n",
    "    \n",
    "    x = np.linspace(0, 1, 1001)\n",
    "    y = np.sqrt(1 - x**2)\n",
    "    plt.plot(x,y)\n",
    "\n",
    "    plt.xlim(0, 1)\n",
    "    plt.ylim(0, 1)\n",
    "    \n",
    "    plt.tight_layout()\n",
    "    \n",
    "plotCircle()"
   ]
  },
  {
   "cell_type": "code",
   "execution_count": null,
   "metadata": {},
   "outputs": [],
   "source": [
    "accepted_xs = []\n",
    "accepted_ys = []\n",
    "\n",
    "rejected_xs = []\n",
    "rejected_ys = []\n",
    "\n",
    "N_REPEATS = 1000\n",
    "\n",
    "count = 0\n",
    "\n",
    "for _ in range(N_REPEATS):\n",
    "    \n",
    "    x = np.random.random()\n",
    "    y = np.random.random()\n",
    "    \n",
    "    if x*x + y*y <= 1:\n",
    "        \n",
    "        accepted_xs.append(x)\n",
    "        accepted_ys.append(y)\n",
    "        \n",
    "        count += 1\n",
    "        \n",
    "    else:\n",
    "        \n",
    "        rejected_xs.append(x)\n",
    "        rejected_ys.append(y)        \n",
    "        \n",
    "pi = 4.0 * count / N_REPEATS\n",
    "\n",
    "print(\"Estimate of Pi: \" + str(pi))"
   ]
  },
  {
   "cell_type": "markdown",
   "metadata": {},
   "source": [
    "We can plot the samples that we have drawn."
   ]
  },
  {
   "cell_type": "code",
   "execution_count": null,
   "metadata": {},
   "outputs": [],
   "source": [
    "plt.figure(figsize=(6,6))\n",
    "\n",
    "plotCircle()\n",
    "\n",
    "plt.plot(accepted_xs, accepted_ys, 'r+')\n",
    "plt.plot(rejected_xs, rejected_ys, 'b+');"
   ]
  },
  {
   "cell_type": "markdown",
   "metadata": {},
   "source": [
    "We can write this in lots of more efficient ways."
   ]
  },
  {
   "cell_type": "code",
   "execution_count": null,
   "metadata": {},
   "outputs": [],
   "source": [
    "N_REPEATS = 1000\n",
    "\n",
    "x = np.random.random(size=(N_REPEATS))\n",
    "y = np.random.random(size=(N_REPEATS))\n",
    "\n",
    "pi = 4.0 * np.sum(x**2 + y**2 <= 1) / N_REPEATS\n",
    "\n",
    "print(\"Estimate of Pi: \" + str(pi))"
   ]
  }
 ],
 "metadata": {
  "kernelspec": {
   "display_name": "Python 3",
   "language": "python",
   "name": "python3"
  },
  "language_info": {
   "codemirror_mode": {
    "name": "ipython",
    "version": 3
   },
   "file_extension": ".py",
   "mimetype": "text/x-python",
   "name": "python",
   "nbconvert_exporter": "python",
   "pygments_lexer": "ipython3",
   "version": "3.7.1"
  }
 },
 "nbformat": 4,
 "nbformat_minor": 2
}
