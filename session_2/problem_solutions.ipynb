{
 "cells": [
  {
   "cell_type": "markdown",
   "metadata": {},
   "source": [
    "# Problem Solutions"
   ]
  },
  {
   "cell_type": "code",
   "execution_count": null,
   "metadata": {},
   "outputs": [],
   "source": [
    "import warnings\n",
    "warnings.filterwarnings('ignore')"
   ]
  },
  {
   "cell_type": "code",
   "execution_count": null,
   "metadata": {},
   "outputs": [],
   "source": [
    "import math\n",
    "import pymc3 as pm\n",
    "import numpy as np\n",
    "import pandas as pd\n",
    "import seaborn as sns\n",
    "import matplotlib.pyplot as plt"
   ]
  },
  {
   "cell_type": "code",
   "execution_count": null,
   "metadata": {},
   "outputs": [],
   "source": [
    "from scipy.stats import beta"
   ]
  },
  {
   "cell_type": "markdown",
   "metadata": {},
   "source": [
    "### Question 2 - A coin is flipped 8 times and comes up heads just two times."
   ]
  },
  {
   "cell_type": "code",
   "execution_count": null,
   "metadata": {},
   "outputs": [],
   "source": [
    "model = pm.Model() \n",
    "    \n",
    "with model:\n",
    "    \n",
    "    p = pm.Uniform('p', 0, 1)\n",
    "    \n",
    "    observations = pm.Bernoulli(\"observations\", p, observed=[True, True, False, False, False, False, False, False])\n",
    "    \n",
    "    trace = pm.sample(5000)"
   ]
  },
  {
   "cell_type": "code",
   "execution_count": null,
   "metadata": {},
   "outputs": [],
   "source": [
    "posterior = trace['p']"
   ]
  },
  {
   "cell_type": "markdown",
   "metadata": {},
   "source": [
    "### The probability of the next coin flip coming up heads."
   ]
  },
  {
   "cell_type": "code",
   "execution_count": null,
   "metadata": {},
   "outputs": [],
   "source": [
    "probability_of_one_head = np.mean(posterior)\n",
    "\n",
    "print('The probability of the next coin flip coming up heads is {:0.4f}'.format(probability_of_one_head))"
   ]
  },
  {
   "cell_type": "markdown",
   "metadata": {},
   "source": [
    "### The probability of the next two coin flips both coming up heads."
   ]
  },
  {
   "cell_type": "code",
   "execution_count": null,
   "metadata": {},
   "outputs": [],
   "source": [
    "probability_of_two_heads = np.mean(posterior**2)\n",
    "\n",
    "print('The probability of the next two coin flips both coming up heads is {:0.4f}'.format(probability_of_two_heads))"
   ]
  },
  {
   "cell_type": "markdown",
   "metadata": {},
   "source": [
    "### The probability of any three out of the next five coin flips coming up heads."
   ]
  },
  {
   "cell_type": "code",
   "execution_count": null,
   "metadata": {},
   "outputs": [],
   "source": [
    "def likelihood(n, p, N):\n",
    "    return np.math.factorial(N) / np.math.factorial(n) / np.math.factorial(N-n) * np.power(p, n) * np.power(1.0 - p, N-n)    "
   ]
  },
  {
   "cell_type": "code",
   "execution_count": null,
   "metadata": {},
   "outputs": [],
   "source": [
    "probability_of_three_out_of_five_head = np.mean(likelihood(3, posterior, 5))\n",
    "\n",
    "print('The probability of any three out of the next five coin flips coming up heads is {:0.4f}'.format(probability_of_three_out_of_five_head))"
   ]
  },
  {
   "cell_type": "markdown",
   "metadata": {},
   "source": [
    "## Queston 3 - A coin has been flipped 6 times and has come up heads twice. "
   ]
  },
  {
   "cell_type": "code",
   "execution_count": null,
   "metadata": {},
   "outputs": [],
   "source": [
    "model = pm.Model() \n",
    "    \n",
    "with model:\n",
    "    \n",
    "    p = pm.Beta('p', 3, 5)\n",
    "    \n",
    "    observations = pm.Bernoulli(\"observations\", p, observed=[True, True])\n",
    "    \n",
    "    trace = pm.sample(5000)"
   ]
  },
  {
   "cell_type": "code",
   "execution_count": null,
   "metadata": {},
   "outputs": [],
   "source": [
    "plt.figure(figsize=(10, 8))\n",
    "\n",
    "plt.hist(trace['p'], histtype='stepfilled', bins=70, alpha=0.85, color=\"#467821\", density=True)\n",
    "plt.xlim(0, 1)\n",
    "plt.title(\"Posterior Belief Probability Density Function\")\n",
    "plt.xlabel(\"Probability of Heads ($p$)\")\n",
    "\n",
    "plt.tight_layout()"
   ]
  },
  {
   "cell_type": "markdown",
   "metadata": {},
   "source": [
    "## Queston 4 - For what values of $a$ and $b$ does the beta probability density function have a value greater than 0 at $p=0$ and $p=1$. "
   ]
  },
  {
   "cell_type": "code",
   "execution_count": null,
   "metadata": {},
   "outputs": [],
   "source": [
    "STEPS = 1001\n",
    "\n",
    "p = np.linspace(0, 1, STEPS)"
   ]
  },
  {
   "cell_type": "code",
   "execution_count": null,
   "metadata": {},
   "outputs": [],
   "source": [
    "a = 1\n",
    "b = 1\n",
    "\n",
    "posterior = beta.pdf(p, 1, 1)"
   ]
  },
  {
   "cell_type": "code",
   "execution_count": null,
   "metadata": {
    "scrolled": true
   },
   "outputs": [],
   "source": [
    "plt.figure(figsize=(10, 6))\n",
    "plt.plot(p, beta.pdf(p, a, b))\n",
    "plt.xlim(0, 1)\n",
    "plt.ylim(0, 2.5)\n",
    "plt.title(\"Posterior Belief Probability Density Function\")\n",
    "plt.xlabel(\"Probability of Heads ($p$)\")\n",
    "\n",
    "plt.tight_layout()"
   ]
  },
  {
   "cell_type": "code",
   "execution_count": null,
   "metadata": {},
   "outputs": [],
   "source": []
  }
 ],
 "metadata": {
  "kernelspec": {
   "display_name": "Python 3",
   "language": "python",
   "name": "python3"
  },
  "language_info": {
   "codemirror_mode": {
    "name": "ipython",
    "version": 3
   },
   "file_extension": ".py",
   "mimetype": "text/x-python",
   "name": "python",
   "nbconvert_exporter": "python",
   "pygments_lexer": "ipython3",
   "version": "3.7.1"
  }
 },
 "nbformat": 4,
 "nbformat_minor": 2
}
