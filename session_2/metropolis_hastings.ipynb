{
 "cells": [
  {
   "cell_type": "markdown",
   "metadata": {},
   "source": [
    "# Metropolis-Hastings Algorithm"
   ]
  },
  {
   "cell_type": "raw",
   "metadata": {},
   "source": [
    "import warnings\n",
    "warnings.filterwarnings('ignore')"
   ]
  },
  {
   "cell_type": "code",
   "execution_count": null,
   "metadata": {},
   "outputs": [],
   "source": [
    "import math\n",
    "import pymc3 as pm\n",
    "import numpy as np\n",
    "import pandas as pd\n",
    "import seaborn as sns\n",
    "import matplotlib.pyplot as plt"
   ]
  },
  {
   "cell_type": "code",
   "execution_count": null,
   "metadata": {},
   "outputs": [],
   "source": [
    "from scipy.stats import beta"
   ]
  },
  {
   "cell_type": "markdown",
   "metadata": {},
   "source": [
    "### Flipping a Fair Coin \n",
    "\n",
    "We assume that we flip a coin $N$ times and observe that $n$ of these are heads."
   ]
  },
  {
   "cell_type": "code",
   "execution_count": null,
   "metadata": {},
   "outputs": [],
   "source": [
    "N = 6\n",
    "n = 2"
   ]
  },
  {
   "cell_type": "markdown",
   "metadata": {},
   "source": [
    "We have the same likelihood function as before, $P(n|p,N)$."
   ]
  },
  {
   "cell_type": "code",
   "execution_count": null,
   "metadata": {},
   "outputs": [],
   "source": [
    "def likelihood(n, p, N):\n",
    "    return np.math.factorial(N) / np.math.factorial(n) / np.math.factorial(N-n) * np.power(p, n) * np.power(1.0 - p, N-n)"
   ]
  },
  {
   "cell_type": "markdown",
   "metadata": {},
   "source": [
    "We will use a discrete distribution for our prior belief about $p$. We will assume 51 possible values ranging from 0 to 1."
   ]
  },
  {
   "cell_type": "code",
   "execution_count": null,
   "metadata": {},
   "outputs": [],
   "source": [
    "trace = []\n",
    "\n",
    "NUMBER_OF_SAMPLES = 10900\n",
    "\n",
    "SAMPLE_STD = 0.1\n",
    "\n",
    "p = 0.5\n",
    "\n",
    "while len(trace) < NUMBER_OF_SAMPLES:\n",
    "    \n",
    "    p_candidate = np.maximum(0.0, np.minimum(1.0, p + SAMPLE_STD * np.random.normal()))\n",
    "    \n",
    "    alpha = likelihood(n, p_candidate, N) / likelihood(n, p, N)\n",
    "    \n",
    "    if np.random.random() < alpha:\n",
    "        \n",
    "        trace.append(p_candidate)\n",
    "        \n",
    "        p = p_candidate"
   ]
  },
  {
   "cell_type": "markdown",
   "metadata": {},
   "source": [
    "We can then plot the trace."
   ]
  },
  {
   "cell_type": "code",
   "execution_count": null,
   "metadata": {},
   "outputs": [],
   "source": [
    "plt.figure(figsize=(10, 8))\n",
    "plt.plot(trace, color=\"#7A68A6\")\n",
    "plt.xlim(0, NUMBER_OF_SAMPLES)\n",
    "plt.ylim(0, 1)\n",
    "plt.title(\"Posterior Samples\")\n",
    "plt.xlabel(\"Sample Number\")\n",
    "\n",
    "plt.tight_layout()"
   ]
  },
  {
   "cell_type": "markdown",
   "metadata": {},
   "source": [
    "We can also plot a histogram of the samples and ask matplotlib to generate a probability density."
   ]
  },
  {
   "cell_type": "code",
   "execution_count": null,
   "metadata": {},
   "outputs": [],
   "source": [
    "plt.figure(figsize=(10, 8))\n",
    "\n",
    "plt.hist(trace, bins = 51, color=\"#7A68A6\", density=True)\n",
    "plt.xlim(0, 1)\n",
    "plt.title(\"Posterior Belief Probability Density Function\")\n",
    "plt.xlabel(\"Probability of Heads ($p$)\")\n",
    "\n",
    "plt.tight_layout()"
   ]
  },
  {
   "cell_type": "markdown",
   "metadata": {},
   "source": [
    "We can then compare this against the analytic solution calculated from the beta probability density function."
   ]
  },
  {
   "cell_type": "code",
   "execution_count": null,
   "metadata": {},
   "outputs": [],
   "source": [
    "a = n + 1\n",
    "b = N - n + 1"
   ]
  },
  {
   "cell_type": "code",
   "execution_count": null,
   "metadata": {},
   "outputs": [],
   "source": [
    "STEPS = 1001\n",
    "\n",
    "p = np.linspace(0, 1, STEPS)\n",
    "\n",
    "posterior = beta.pdf(p, a, b)"
   ]
  },
  {
   "cell_type": "code",
   "execution_count": null,
   "metadata": {},
   "outputs": [],
   "source": [
    "plt.figure(figsize=(10, 8))\n",
    "\n",
    "plt.hist(trace, bins = 51, color=\"#7A68A6\", density=True)\n",
    "plt.plot(p, beta.pdf(p, a, b))\n",
    "plt.xlim(0, 1)\n",
    "plt.title(\"Posterior Belief Probability Density Function\")\n",
    "plt.xlabel(\"Probability of Heads ($p$)\")\n",
    "\n",
    "plt.tight_layout()"
   ]
  }
 ],
 "metadata": {
  "kernelspec": {
   "display_name": "Python 3",
   "language": "python",
   "name": "python3"
  },
  "language_info": {
   "codemirror_mode": {
    "name": "ipython",
    "version": 3
   },
   "file_extension": ".py",
   "mimetype": "text/x-python",
   "name": "python",
   "nbconvert_exporter": "python",
   "pygments_lexer": "ipython3",
   "version": "3.7.1"
  }
 },
 "nbformat": 4,
 "nbformat_minor": 2
}
