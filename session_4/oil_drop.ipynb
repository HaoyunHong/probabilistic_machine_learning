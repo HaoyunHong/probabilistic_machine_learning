{
 "cells": [
  {
   "cell_type": "markdown",
   "metadata": {},
   "source": [
    "## Millikan Oil Drop Experiment"
   ]
  },
  {
   "cell_type": "code",
   "execution_count": null,
   "metadata": {},
   "outputs": [],
   "source": [
    "import warnings\n",
    "warnings.filterwarnings('ignore')"
   ]
  },
  {
   "cell_type": "code",
   "execution_count": null,
   "metadata": {},
   "outputs": [],
   "source": [
    "import math\n",
    "import pymc3 as pm\n",
    "import numpy as np\n",
    "import pandas as pd\n",
    "import seaborn as sns\n",
    "import matplotlib.pyplot as plt"
   ]
  },
  {
   "cell_type": "markdown",
   "metadata": {},
   "source": [
    "Assume that we have made the following measurements of the charge on the oil drops. These are all in units of 1e-19 coulombs."
   ]
  },
  {
   "cell_type": "code",
   "execution_count": null,
   "metadata": {},
   "outputs": [],
   "source": [
    "measurements = np.array([1.26, 2.88, 4.86, 3.66, 5.48, 1.02, 3.00, 3.26, 4.87, 1.60])"
   ]
  },
  {
   "cell_type": "markdown",
   "metadata": {},
   "source": [
    "We can build a probablistic model to describe this noisy measurement process."
   ]
  },
  {
   "cell_type": "code",
   "execution_count": null,
   "metadata": {},
   "outputs": [],
   "source": [
    "N = len(measurements)\n",
    "\n",
    "model = pm.Model()\n",
    "\n",
    "with model:\n",
    "    \n",
    "    charge = pm.Exponential(\"charge\", 1.0)\n",
    "\n",
    "    number = pm.Poisson('number', 1.0, shape=(N))\n",
    "        \n",
    "    mu = (1 + number) * charge\n",
    "    \n",
    "    sd = pm.Exponential(\"sd\", 10.0)\n",
    "\n",
    "    observation = pm.Normal(\"obs\", mu=mu, sd=sd, observed=measurements) "
   ]
  },
  {
   "cell_type": "markdown",
   "metadata": {},
   "source": [
    "We run the model with some default settings."
   ]
  },
  {
   "cell_type": "code",
   "execution_count": null,
   "metadata": {},
   "outputs": [],
   "source": [
    "with model:\n",
    "    \n",
    "    trace = pm.sample(2000)"
   ]
  },
  {
   "cell_type": "markdown",
   "metadata": {},
   "source": [
    "We can quickly review the trace. In this case we need to select the random variables because *traceplot* does not know how to draw the discrete *number* random variable."
   ]
  },
  {
   "cell_type": "code",
   "execution_count": null,
   "metadata": {},
   "outputs": [],
   "source": [
    "pm.traceplot(trace, var_names=[\"charge\", \"sd\"]);"
   ]
  },
  {
   "cell_type": "markdown",
   "metadata": {},
   "source": [
    "Finally when we are happy we can generate some final plots and report on the results."
   ]
  },
  {
   "cell_type": "code",
   "execution_count": null,
   "metadata": {
    "scrolled": true
   },
   "outputs": [],
   "source": [
    "fig, axes = plt.subplots(2, 1, figsize=(6, 6))\n",
    "\n",
    "axes[0].hist(trace['charge'], histtype='stepfilled', bins=100, alpha=0.85, color=\"#467821\", density=True)\n",
    "axes[0].set_xlim(1, 2)\n",
    "axes[0].set_title('Charge On The Electron ($e$)')\n",
    "axes[0].set_xlabel('Coulombs (x $10^{-19}$ C)')\n",
    "\n",
    "axes[1].hist(trace['sd'], histtype='stepfilled', bins=100, alpha=0.85, color=\"#A60628\", density=True)\n",
    "axes[1].set_xlim(0, 1)\n",
    "axes[1].set_title('Measurement Error ($\\sigma$)')\n",
    "axes[1].set_xlabel('Coulombs (x $10^{-19}$ C)')\n",
    "\n",
    "plt.tight_layout()\n",
    "\n",
    "plt.savefig('results.pdf')"
   ]
  },
  {
   "cell_type": "markdown",
   "metadata": {},
   "source": [
    "We can also extract the values of various prior probabilities and measurements."
   ]
  },
  {
   "cell_type": "code",
   "execution_count": null,
   "metadata": {},
   "outputs": [],
   "source": [
    "mu = np.mean(trace[\"charge\"])\n",
    "sd = np.std(trace[\"charge\"])\n",
    "             \n",
    "print(\"Charge on the electron is \" + str(np.round(mu, 2)) + ' +/- ' + str(np.round(sd, 2)))"
   ]
  },
  {
   "cell_type": "code",
   "execution_count": null,
   "metadata": {},
   "outputs": [],
   "source": [
    "print(np.round(np.mean( 1 + trace['number'], 0), 3))"
   ]
  }
 ],
 "metadata": {
  "kernelspec": {
   "display_name": "Python 3",
   "language": "python",
   "name": "python3"
  },
  "language_info": {
   "codemirror_mode": {
    "name": "ipython",
    "version": 3
   },
   "file_extension": ".py",
   "mimetype": "text/x-python",
   "name": "python",
   "nbconvert_exporter": "python",
   "pygments_lexer": "ipython3",
   "version": "3.7.1"
  }
 },
 "nbformat": 4,
 "nbformat_minor": 4
}
