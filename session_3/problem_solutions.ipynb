{
 "cells": [
  {
   "cell_type": "markdown",
   "metadata": {},
   "source": [
    "# Problem Solutions"
   ]
  },
  {
   "cell_type": "code",
   "execution_count": null,
   "metadata": {},
   "outputs": [],
   "source": [
    "import warnings\n",
    "warnings.filterwarnings('ignore')"
   ]
  },
  {
   "cell_type": "code",
   "execution_count": null,
   "metadata": {},
   "outputs": [],
   "source": [
    "import math\n",
    "import pymc3 as pm\n",
    "import numpy as np\n",
    "import pandas as pd\n",
    "import seaborn as sns\n",
    "import matplotlib.pyplot as plt"
   ]
  },
  {
   "cell_type": "code",
   "execution_count": null,
   "metadata": {},
   "outputs": [],
   "source": [
    "from scipy.stats import beta"
   ]
  },
  {
   "cell_type": "markdown",
   "metadata": {},
   "source": [
    "### Question 2 - For the example of measurement noise in the notes, confirm that a Gamma distribution can be used as a prior for both the value of the physical property being measured and also the standard deviation of measurement noise. Propose suitable values for the parameters of these Gamma distributions."
   ]
  },
  {
   "cell_type": "code",
   "execution_count": null,
   "metadata": {},
   "outputs": [],
   "source": [
    "measurements = np.array([\n",
    "    12.5, 13.2, 15.1, 14.2, 13.5\n",
    "])"
   ]
  },
  {
   "cell_type": "code",
   "execution_count": null,
   "metadata": {},
   "outputs": [],
   "source": [
    "model = pm.Model()\n",
    "\n",
    "with model:\n",
    "    \n",
    "    mu = pm.Exponential(\"mu\", 1.0 / 15.0)\n",
    "\n",
    "    sigma = pm.Exponential('sigma', 1.0 / 1.0)\n",
    "            \n",
    "    observation = pm.Normal(\"obs\", mu=mu, sigma=sigma, observed=measurements) "
   ]
  },
  {
   "cell_type": "code",
   "execution_count": null,
   "metadata": {},
   "outputs": [],
   "source": [
    "prior_mu = mu.random(size=(100000))\n",
    "\n",
    "prior_sigma = sigma.random(size=(100000))"
   ]
  },
  {
   "cell_type": "code",
   "execution_count": null,
   "metadata": {},
   "outputs": [],
   "source": [
    "fig, axes = plt.subplots(2, 1, figsize=(10, 5))\n",
    "\n",
    "axes[0].hist(prior_mu, histtype='stepfilled', bins=100, alpha=0.85, color=\"#467821\", density=True)\n",
    "axes[0].set_xlim(0, 30)\n",
    "axes[0].set_title('Circumference')\n",
    "axes[0].set_xlabel('Length (cm)')\n",
    "\n",
    "axes[1].hist(prior_sigma, histtype='stepfilled', bins=100, alpha=0.85, color=\"#A60628\", density=True)\n",
    "axes[1].set_xlim(0, 10)\n",
    "axes[1].set_title('Standard deviation of measurement error')\n",
    "axes[1].set_xlabel('Length (cm)')\n",
    "\n",
    "plt.tight_layout()"
   ]
  },
  {
   "cell_type": "code",
   "execution_count": null,
   "metadata": {},
   "outputs": [],
   "source": [
    "with model:\n",
    "    \n",
    "    trace = pm.sample(5000);"
   ]
  },
  {
   "cell_type": "code",
   "execution_count": null,
   "metadata": {},
   "outputs": [],
   "source": [
    "fig, axes = plt.subplots(2, 1, figsize=(10, 5))\n",
    "\n",
    "axes[0].hist(trace['mu'], histtype='stepfilled', bins=70, alpha=0.85, color=\"#467821\", density=True)\n",
    "axes[0].set_xlim(12, 16)\n",
    "axes[0].set_title('Circumference')\n",
    "axes[0].set_xlabel('Length (cm)')\n",
    "\n",
    "axes[1].hist(trace['sigma'], histtype='stepfilled', bins=30, alpha=0.85, color=\"#A60628\", density=True)\n",
    "axes[1].set_xlim(0, 3)\n",
    "axes[1].set_title('Standard deviation of measurement error')\n",
    "axes[1].set_xlabel('Length (cm)')\n",
    "\n",
    "plt.tight_layout()"
   ]
  },
  {
   "cell_type": "markdown",
   "metadata": {},
   "source": [
    "### Question 3 - A supermarket is trying to estimate the number of customers who will visit a store each day and uses a Poisson process to model the arrival of customers. If 40 people visit the store on the first day, how many are expected to visit the store on any day? What is the uncertainty in this estimate? If on subsequent days 30, 60, and 50 customers actually do visit the store, how does the estimate of the expected number of customers change?"
   ]
  },
  {
   "cell_type": "code",
   "execution_count": null,
   "metadata": {},
   "outputs": [],
   "source": [
    "number_of_customers = 40\n",
    "\n",
    "model = pm.Model()\n",
    "\n",
    "with model:\n",
    "    \n",
    "    mu = pm.Exponential(\"mu\", 1.0 / 40.0)\n",
    "            \n",
    "    observation = pm.Poisson(\"obs\", mu=mu, observed=number_of_customers) \n",
    "    \n",
    "    trace = pm.sample(5000);"
   ]
  },
  {
   "cell_type": "code",
   "execution_count": null,
   "metadata": {},
   "outputs": [],
   "source": [
    "print(\"Estimate of visits per hour: \" + str(np.round(np.mean(trace['mu']),1)))\n",
    "print(\"Uncertainty of error: +/- \" + str(np.round(np.std(trace['mu']),1)))"
   ]
  },
  {
   "cell_type": "code",
   "execution_count": null,
   "metadata": {},
   "outputs": [],
   "source": [
    "number_of_customers = np.array([40, 30, 60, 50])\n",
    "\n",
    "model = pm.Model()\n",
    "\n",
    "with model:\n",
    "    \n",
    "    mu = pm.Exponential(\"mu\", 1.0 / 40.0)\n",
    "            \n",
    "    observation = pm.Poisson(\"obs\", mu=mu, observed=number_of_customers) \n",
    "    \n",
    "    trace = pm.sample(5000);"
   ]
  },
  {
   "cell_type": "code",
   "execution_count": null,
   "metadata": {},
   "outputs": [],
   "source": [
    "print(\"Estimate of visits per hour: \" + str(np.round(np.mean(trace['mu']),1)))\n",
    "print(\"Uncertainty of error: +/- \" + str(np.round(np.std(trace['mu']),1)))"
   ]
  },
  {
   "cell_type": "markdown",
   "metadata": {},
   "source": [
    "### Question 4 - Modify the example from Session 1 to be a true mixture of two independent Gaussians, each with their own mean and variance. Generate some suitable data and show that your model is able to infer the correct properties of the two Gaussian distributions."
   ]
  },
  {
   "cell_type": "code",
   "execution_count": null,
   "metadata": {},
   "outputs": [],
   "source": [
    "N = 100\n",
    "\n",
    "data1 = pm.Normal.dist(mu=0, sd=4).random(size=(N//2))\n",
    "data2 = pm.Normal.dist(mu=2, sd=1).random(size=(N//2))\n",
    "\n",
    "data = np.concatenate([data1, data2])"
   ]
  },
  {
   "cell_type": "code",
   "execution_count": null,
   "metadata": {},
   "outputs": [],
   "source": [
    "plt.figure(figsize=(10, 5))\n",
    "\n",
    "plt.hist(data, histtype='stepfilled', bins=100, alpha=0.85, color=\"#467821\", density=True)\n",
    "plt.xlim(-10, 10)\n",
    "\n",
    "plt.tight_layout()"
   ]
  },
  {
   "cell_type": "code",
   "execution_count": null,
   "metadata": {},
   "outputs": [],
   "source": [
    "model = pm.Model()\n",
    "\n",
    "with model:\n",
    "        \n",
    "    mu1 = pm.Normal(\"mu1\", mu=0, sd=10)\n",
    "    sd1 = pm.Exponential(\"sd1\", 1.0)\n",
    "\n",
    "    mu2 = pm.Normal(\"mu2\", mu=0, sd=10)\n",
    "    sd2 = pm.Exponential(\"sd2\", 1.0)\n",
    "\n",
    "    one_or_two = pm.Bernoulli(\"one_or_two\", 0.5, shape=N)\n",
    "       \n",
    "    mu = pm.math.switch(one_or_two, mu1, mu2)\n",
    "    sd = pm.math.switch(one_or_two, sd1, sd2)\n",
    "\n",
    "    observation = pm.Normal(\"obs\", mu=mu, sd=sd, observed=data)\n",
    "    \n",
    "    trace = pm.sample(5000);"
   ]
  },
  {
   "cell_type": "code",
   "execution_count": null,
   "metadata": {},
   "outputs": [],
   "source": [
    "mu1 = np.mean(trace['mu1'])\n",
    "sd1 = np.mean(trace['sd1'])\n",
    " \n",
    "mu2 = np.mean(trace['mu2'])\n",
    "sd2 = np.mean(trace['sd2'])"
   ]
  },
  {
   "cell_type": "code",
   "execution_count": null,
   "metadata": {},
   "outputs": [],
   "source": [
    "print(\"Mean of first Gaussian: \" + str(np.round(mu1, 1)))\n",
    "print(\"Standard deviation of first Gaussian: \" + str(np.round(sd1, 1)))\n",
    "\n",
    "print(\"Mean of first Gaussian: \" + str(np.round(mu2, 1)))\n",
    "print(\"Standard deviation of first Gaussian: \" + str(np.round(sd2, 1)))"
   ]
  },
  {
   "cell_type": "code",
   "execution_count": null,
   "metadata": {},
   "outputs": [],
   "source": [
    "STEPS = 1001\n",
    "\n",
    "x = np.linspace(-3, 6, STEPS)\n",
    "\n",
    "y1 = np.exp(pm.Normal.dist(mu=mu1, sd=sd1).logp(x).eval())\n",
    "y2 = np.exp(pm.Normal.dist(mu=mu2, sd=sd2).logp(x).eval())"
   ]
  },
  {
   "cell_type": "code",
   "execution_count": null,
   "metadata": {},
   "outputs": [],
   "source": [
    "plt.figure(figsize=(10, 5))\n",
    "\n",
    "plt.hist(data, histtype='stepfilled', bins=100, alpha=0.85, color=\"#467821\", density=True)\n",
    "\n",
    "plt.plot(x, y1 / 2, 'r')\n",
    "plt.plot(x, y2 / 2, 'r')\n",
    "\n",
    "plt.xlim(-3, 6)\n",
    "\n",
    "plt.tight_layout()"
   ]
  },
  {
   "cell_type": "code",
   "execution_count": null,
   "metadata": {},
   "outputs": [],
   "source": []
  }
 ],
 "metadata": {
  "kernelspec": {
   "display_name": "Python 3",
   "language": "python",
   "name": "python3"
  },
  "language_info": {
   "codemirror_mode": {
    "name": "ipython",
    "version": 3
   },
   "file_extension": ".py",
   "mimetype": "text/x-python",
   "name": "python",
   "nbconvert_exporter": "python",
   "pygments_lexer": "ipython3",
   "version": "3.7.1"
  }
 },
 "nbformat": 4,
 "nbformat_minor": 2
}
