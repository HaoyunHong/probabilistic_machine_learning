{
 "cells": [
  {
   "cell_type": "markdown",
   "metadata": {},
   "source": [
    "## Measurement Noise"
   ]
  },
  {
   "cell_type": "code",
   "execution_count": null,
   "metadata": {},
   "outputs": [],
   "source": [
    "import warnings\n",
    "warnings.filterwarnings('ignore')"
   ]
  },
  {
   "cell_type": "code",
   "execution_count": null,
   "metadata": {},
   "outputs": [],
   "source": [
    "import math\n",
    "import pymc3 as pm\n",
    "import numpy as np\n",
    "import pandas as pd\n",
    "import seaborn as sns\n",
    "import matplotlib.pyplot as plt"
   ]
  },
  {
   "cell_type": "markdown",
   "metadata": {},
   "source": [
    "Assume we are trying to measure the circumference of an irregularly shaped object with a ruler."
   ]
  },
  {
   "cell_type": "code",
   "execution_count": null,
   "metadata": {},
   "outputs": [],
   "source": [
    "measurements = np.array([\n",
    "    12.5, 13.2, 15.1, 14.2, 13.5\n",
    "])"
   ]
  },
  {
   "cell_type": "markdown",
   "metadata": {},
   "source": [
    "We can build a probablistic model to describe this noisy measurement process."
   ]
  },
  {
   "cell_type": "code",
   "execution_count": null,
   "metadata": {},
   "outputs": [],
   "source": [
    "model = pm.Model()\n",
    "\n",
    "with model:\n",
    "    \n",
    "    mu = pm.Exponential(\"mu\", 1.0 / 15.0)\n",
    "\n",
    "    sigma = pm.Exponential('sigma', 1.0 / 1.0)\n",
    "            \n",
    "    observation = pm.Normal(\"obs\", mu=mu, sigma=sigma, observed=measurements) \n",
    "    \n",
    "    trace = pm.sample(5000);"
   ]
  },
  {
   "cell_type": "markdown",
   "metadata": {},
   "source": [
    "We often want to quickly explore the output of the MCMC process. To do so we can use the built in traceplot function."
   ]
  },
  {
   "cell_type": "code",
   "execution_count": null,
   "metadata": {},
   "outputs": [],
   "source": [
    "pm.traceplot(trace);"
   ]
  },
  {
   "cell_type": "markdown",
   "metadata": {},
   "source": [
    "We can then plot the data in the format that we require."
   ]
  },
  {
   "cell_type": "code",
   "execution_count": null,
   "metadata": {
    "scrolled": true
   },
   "outputs": [],
   "source": [
    "fig, axes = plt.subplots(2, 1, figsize=(10, 5))\n",
    "\n",
    "axes[0].hist(trace['mu'], histtype='stepfilled', bins=70, alpha=0.85, color=\"#467821\", density=True)\n",
    "axes[0].set_xlim(12, 16)\n",
    "axes[0].set_title('Circumference')\n",
    "axes[0].set_xlabel('Length (cm)')\n",
    "\n",
    "axes[1].hist(trace['sigma'], histtype='stepfilled', bins=30, alpha=0.85, color=\"#A60628\", density=True)\n",
    "axes[1].set_xlim(0, 3)\n",
    "axes[1].set_title('Standard deviation of measurement error')\n",
    "axes[1].set_xlabel('Length (cm)')\n",
    "\n",
    "plt.tight_layout()"
   ]
  },
  {
   "cell_type": "markdown",
   "metadata": {},
   "source": [
    "We would typically want to know the mean of these distributions. We can get those directly from the trace samples."
   ]
  },
  {
   "cell_type": "code",
   "execution_count": null,
   "metadata": {},
   "outputs": [],
   "source": [
    "print(\"Estimate of circumference: \" + str(np.round(np.mean(trace['mu']),1)) + ' cm')\n",
    "print(\"Measurement error: \" + str(np.round(np.mean(trace['sigma']),1)) + ' cm')"
   ]
  }
 ],
 "metadata": {
  "kernelspec": {
   "display_name": "Python 3",
   "language": "python",
   "name": "python3"
  },
  "language_info": {
   "codemirror_mode": {
    "name": "ipython",
    "version": 3
   },
   "file_extension": ".py",
   "mimetype": "text/x-python",
   "name": "python",
   "nbconvert_exporter": "python",
   "pygments_lexer": "ipython3",
   "version": "3.7.1"
  }
 },
 "nbformat": 4,
 "nbformat_minor": 4
}
